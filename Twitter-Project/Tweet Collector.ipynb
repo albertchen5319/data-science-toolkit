{
 "cells": [
  {
   "cell_type": "markdown",
   "metadata": {},
   "source": [
    "## Create a Tweet Iterator"
   ]
  },
  {
   "cell_type": "code",
   "execution_count": 1,
   "metadata": {},
   "outputs": [],
   "source": [
    "#!pip install boto3"
   ]
  },
  {
   "cell_type": "code",
   "execution_count": 2,
   "metadata": {},
   "outputs": [],
   "source": [
    "from lib import create_tweet_iterator"
   ]
  },
  {
   "cell_type": "code",
   "execution_count": 3,
   "metadata": {},
   "outputs": [],
   "source": [
    "token            = \"2196313819-Z4YEqaPB2COheQimxQ8ZODoRDSn8S6s2j5o7HuV\"\n",
    "token_secret     = \"BasDXMjQ8FpfyWuuZcY4svZgtxHLwT1gYRjuj2cMTODl5\"\n",
    "consumer_key     = \"ZCIZTporN63qlOd9BeCSmiPha\"\n",
    "consumer_secret  = \"vdcLUxkO2hm4YF4tucBoyqFpdxuIlFJShWKCi8lK3zjQielpiC\"\n",
    "bounding_box     = '-118.5137323688,34.0001996344,-118.4702449172,34.0331651696'\n",
    "\n",
    "tweet_iterator = create_tweet_iterator(token,\n",
    "                                       token_secret,\n",
    "                                       consumer_key,\n",
    "                                       consumer_secret,\n",
    "                                       bounding_box)"
   ]
  },
  {
   "cell_type": "markdown",
   "metadata": {},
   "source": [
    "## Collect Tweets"
   ]
  },
  {
   "cell_type": "code",
   "execution_count": 4,
   "metadata": {},
   "outputs": [],
   "source": [
    "list_of_tweets = []"
   ]
  },
  {
   "cell_type": "code",
   "execution_count": 5,
   "metadata": {},
   "outputs": [],
   "source": [
    "for i in range(100):\n",
    "    list_of_tweets.append(next(tweet_iterator))"
   ]
  },
  {
   "cell_type": "code",
   "execution_count": 6,
   "metadata": {
    "scrolled": true
   },
   "outputs": [
    {
     "data": {
      "text/plain": [
       "100"
      ]
     },
     "execution_count": 6,
     "metadata": {},
     "output_type": "execute_result"
    }
   ],
   "source": [
    "len(list_of_tweets)"
   ]
  },
  {
   "cell_type": "markdown",
   "metadata": {},
   "source": [
    "# Write list of tweets to JSON file on disk"
   ]
  },
  {
   "cell_type": "code",
   "execution_count": 7,
   "metadata": {},
   "outputs": [],
   "source": [
    "import json\n",
    "from lib import create_timestamped_filename"
   ]
  },
  {
   "cell_type": "code",
   "execution_count": 8,
   "metadata": {},
   "outputs": [],
   "source": [
    "username = 'albert'\n",
    "filename = create_timestamped_filename(username)"
   ]
  },
  {
   "cell_type": "code",
   "execution_count": 9,
   "metadata": {},
   "outputs": [],
   "source": [
    "with open(filename, 'w') as outfile:\n",
    "    json.dump(list_of_tweets, outfile)"
   ]
  },
  {
   "cell_type": "markdown",
   "metadata": {},
   "source": [
    "## Write tweet files to S3"
   ]
  },
  {
   "cell_type": "markdown",
   "metadata": {},
   "source": [
    "#### Step 1 - Create a boto client to S3"
   ]
  },
  {
   "cell_type": "code",
   "execution_count": 10,
   "metadata": {},
   "outputs": [],
   "source": [
    "from lib import create_boto_client\n",
    "\n",
    "s3_client = create_boto_client()"
   ]
  },
  {
   "cell_type": "markdown",
   "metadata": {},
   "source": [
    "#### Step 2 - Write a file to S3"
   ]
  },
  {
   "cell_type": "code",
   "execution_count": 11,
   "metadata": {},
   "outputs": [],
   "source": [
    "from lib import write_file_to_S3\n",
    "\n",
    "filename = 'tweets-albert-2018-07-24_02-21-19-501738.json'\n",
    "S3_BUCKET = 'uclax-data-science'\n",
    "\n",
    "write_file_to_S3(s3_client, filename, S3_BUCKET)"
   ]
  },
  {
   "cell_type": "markdown",
   "metadata": {},
   "source": [
    "## List files on S3"
   ]
  },
  {
   "cell_type": "code",
   "execution_count": 12,
   "metadata": {
    "scrolled": true
   },
   "outputs": [
    {
     "data": {
      "text/plain": [
       "['data.json',\n",
       " 'tweets-ChillSimmons-2018-07-24_02-33-28-092154.json',\n",
       " 'tweets-Nathan-2018-07-24_03-04-56-925443.json',\n",
       " 'tweets-albert-2018-07-24_02-21-19-501738.json',\n",
       " 'tweets-arthur-2018-07-24_02-55-11-950153.json',\n",
       " 'tweets-delane-2018-07-24_02-59-26-337555.json',\n",
       " 'tweets-dennissibo-2018-07-24_02-12-06-781711.json',\n",
       " 'tweets-jia-2018-07-24_02-20-18-817448.json',\n",
       " 'tweets-joshua-2018-07-21_14-09-23-363540.json',\n",
       " 'tweets-joshua-2018-07-23_11-22-20-369005.json',\n",
       " 'tweets-joshua-2018-07-23_11-59-41-971097.json',\n",
       " 'tweets-joshua-2018-07-24_02-21-29-011479.json',\n",
       " 'tweets-kristine-2018-07-24_02-21-53-840324.json',\n",
       " 'tweets-liling-2018-07-24_02-31-04-417107.json',\n",
       " 'tweets-mark-2018-07-24_02-37-46-350548.json',\n",
       " 'tweets-mei-2018-07-24_02-58-40-073422.json',\n",
       " 'tweets-mryan-2018-07-24_02-14-02-454519.json',\n",
       " 'tweets-nina-2018-07-24_02-16-10-999671.json',\n",
       " 'tweets-nina-2018-07-24_02-36-32-438954.json',\n",
       " 'tweets-ougracie-2018-07-24_03-16-11-135484.json',\n",
       " 'tweets-samson77766-2018-07-24_03-05-31-106810.json',\n",
       " 'tweets-sangyun_jacob-2018-07-24_02-35-06-149229.json',\n",
       " 'tweets-stanley-2018-07-24_02-02-03-064283.json',\n",
       " 'tweets-stanley-2018-07-24_02-03-34-744325.json',\n",
       " 'tweets-stanley-2018-07-24_02-03-52-123543.json',\n",
       " 'tweets-stanley-2018-07-24_02-04-13-008476.json',\n",
       " 'tweets-stanley-2018-07-24_02-22-16-555638.json',\n",
       " 'tweets-stanley-2018-07-24_02-22-54-081139.json',\n",
       " 'tweets-stanley-2018-07-24_02-25-59-012050.json',\n",
       " 'tweets-stanley-2018-07-24_02-58-27-153544.json',\n",
       " 'tweets-stanley-2018-07-24_03-06-19-762314.json',\n",
       " 'tweets-yan-2018-07-24_02-11-42-466065.json']"
      ]
     },
     "execution_count": 12,
     "metadata": {},
     "output_type": "execute_result"
    }
   ],
   "source": [
    "from lib import list_files_in_S3_bucket\n",
    "S3_BUCKET = 'uclax-data-science'\n",
    "\n",
    "list_files_in_S3_bucket(s3_client, S3_BUCKET)"
   ]
  },
  {
   "cell_type": "markdown",
   "metadata": {},
   "source": [
    "## Read an object from S3"
   ]
  },
  {
   "cell_type": "code",
   "execution_count": 13,
   "metadata": {},
   "outputs": [],
   "source": [
    "from lib import read_object_from_S3\n",
    "S3_BUCKET = 'uclax-data-science'\n",
    "\n",
    "tweets_from_s3 = read_object_from_S3(s3_client, 'tweets-albert-2018-07-24_02-21-19-501738.json', S3_BUCKET)"
   ]
  },
  {
   "cell_type": "code",
   "execution_count": 16,
   "metadata": {},
   "outputs": [
    {
     "data": {
      "text/plain": [
       "100"
      ]
     },
     "execution_count": 16,
     "metadata": {},
     "output_type": "execute_result"
    }
   ],
   "source": [
    "len(tweets_from_s3)"
   ]
  },
  {
   "cell_type": "code",
   "execution_count": 19,
   "metadata": {},
   "outputs": [
    {
     "data": {
      "text/plain": [
       "list"
      ]
     },
     "execution_count": 19,
     "metadata": {},
     "output_type": "execute_result"
    }
   ],
   "source": [
    "type(tweets_from_s3)"
   ]
  },
  {
   "cell_type": "code",
   "execution_count": 17,
   "metadata": {},
   "outputs": [],
   "source": [
    "tweet = []"
   ]
  },
  {
   "cell_type": "code",
   "execution_count": 20,
   "metadata": {},
   "outputs": [],
   "source": [
    "tweet = tweets_from_s3[0]"
   ]
  },
  {
   "cell_type": "code",
   "execution_count": 21,
   "metadata": {},
   "outputs": [
    {
     "data": {
      "text/plain": [
       "{'created_at': 'Tue Jul 24 02:16:27 +0000 2018',\n",
       " 'id': 1021579834676400128,\n",
       " 'id_str': '1021579834676400128',\n",
       " 'text': 'I pray to God, Allah, and every other divine being that this piece of shit is brought to proper justice. My heart b… https://t.co/Z5oKWKVTq1',\n",
       " 'source': '<a href=\"http://instagram.com\" rel=\"nofollow\">Instagram</a>',\n",
       " 'truncated': True,\n",
       " 'in_reply_to_status_id': None,\n",
       " 'in_reply_to_status_id_str': None,\n",
       " 'in_reply_to_user_id': None,\n",
       " 'in_reply_to_user_id_str': None,\n",
       " 'in_reply_to_screen_name': None,\n",
       " 'user': {'id': 24151670,\n",
       "  'id_str': '24151670',\n",
       "  'name': 'Maria R.',\n",
       "  'screen_name': 'MariaDeLaGhetto',\n",
       "  'location': 'Los Angeles,  CA',\n",
       "  'url': 'http://Www.facebook.com/MariaDeLaGhetto',\n",
       "  'description': \"I'm crass with class. I'm fucking loud and i don't give a shit... I'm also loyal, loving, and a big baby. But you don't find that out until Chapter 3.\",\n",
       "  'translator_type': 'none',\n",
       "  'protected': False,\n",
       "  'verified': False,\n",
       "  'followers_count': 55,\n",
       "  'friends_count': 193,\n",
       "  'listed_count': 5,\n",
       "  'favourites_count': 424,\n",
       "  'statuses_count': 4970,\n",
       "  'created_at': 'Fri Mar 13 10:00:31 +0000 2009',\n",
       "  'utc_offset': None,\n",
       "  'time_zone': None,\n",
       "  'geo_enabled': True,\n",
       "  'lang': 'en',\n",
       "  'contributors_enabled': False,\n",
       "  'is_translator': False,\n",
       "  'profile_background_color': 'FF6699',\n",
       "  'profile_background_image_url': 'http://abs.twimg.com/images/themes/theme10/bg.gif',\n",
       "  'profile_background_image_url_https': 'https://abs.twimg.com/images/themes/theme10/bg.gif',\n",
       "  'profile_background_tile': False,\n",
       "  'profile_link_color': 'B40B43',\n",
       "  'profile_sidebar_border_color': 'CC3366',\n",
       "  'profile_sidebar_fill_color': 'E5507E',\n",
       "  'profile_text_color': '362720',\n",
       "  'profile_use_background_image': True,\n",
       "  'profile_image_url': 'http://pbs.twimg.com/profile_images/885010057573912576/qFH3PFSi_normal.jpg',\n",
       "  'profile_image_url_https': 'https://pbs.twimg.com/profile_images/885010057573912576/qFH3PFSi_normal.jpg',\n",
       "  'profile_banner_url': 'https://pbs.twimg.com/profile_banners/24151670/1381771970',\n",
       "  'default_profile': False,\n",
       "  'default_profile_image': False,\n",
       "  'following': None,\n",
       "  'follow_request_sent': None,\n",
       "  'notifications': None},\n",
       " 'geo': {'type': 'Point', 'coordinates': [34.0522, -118.243]},\n",
       " 'coordinates': {'type': 'Point', 'coordinates': [-118.243, 34.0522]},\n",
       " 'place': {'id': '3b77caf94bfc81fe',\n",
       "  'url': 'https://api.twitter.com/1.1/geo/id/3b77caf94bfc81fe.json',\n",
       "  'place_type': 'city',\n",
       "  'name': 'Los Angeles',\n",
       "  'full_name': 'Los Angeles, CA',\n",
       "  'country_code': 'US',\n",
       "  'country': 'United States',\n",
       "  'bounding_box': {'type': 'Polygon',\n",
       "   'coordinates': [[[-118.668404, 33.704538],\n",
       "     [-118.668404, 34.337041],\n",
       "     [-118.155409, 34.337041],\n",
       "     [-118.155409, 33.704538]]]},\n",
       "  'attributes': {}},\n",
       " 'contributors': None,\n",
       " 'is_quote_status': False,\n",
       " 'extended_tweet': {'full_text': 'I pray to God, Allah, and every other divine being that this piece of shit is brought to proper justice. My heart breaks. #RiP #NiaWilson #justicefornia . . . . . .  #Repost @shaunking… https://t.co/EyNZUrJqSH',\n",
       "  'display_text_range': [0, 209],\n",
       "  'entities': {'hashtags': [{'text': 'RiP', 'indices': [122, 126]},\n",
       "    {'text': 'NiaWilson', 'indices': [127, 137]},\n",
       "    {'text': 'justicefornia', 'indices': [138, 152]},\n",
       "    {'text': 'Repost', 'indices': [166, 173]}],\n",
       "   'urls': [{'url': 'https://t.co/EyNZUrJqSH',\n",
       "     'expanded_url': 'https://www.instagram.com/p/BlmOWakFi0j/?utm_source=ig_twitter_share&igshid=1mzc9yh7wan7o',\n",
       "     'display_url': 'instagram.com/p/BlmOWakFi0j/…',\n",
       "     'indices': [186, 209]}],\n",
       "   'user_mentions': [{'screen_name': 'ShaunKing',\n",
       "     'name': 'Shaun King',\n",
       "     'id': 755113,\n",
       "     'id_str': '755113',\n",
       "     'indices': [174, 184]}],\n",
       "   'symbols': []}},\n",
       " 'quote_count': 0,\n",
       " 'reply_count': 0,\n",
       " 'retweet_count': 0,\n",
       " 'favorite_count': 0,\n",
       " 'entities': {'hashtags': [],\n",
       "  'urls': [{'url': 'https://t.co/Z5oKWKVTq1',\n",
       "    'expanded_url': 'https://twitter.com/i/web/status/1021579834676400128',\n",
       "    'display_url': 'twitter.com/i/web/status/1…',\n",
       "    'indices': [117, 140]}],\n",
       "  'user_mentions': [],\n",
       "  'symbols': []},\n",
       " 'favorited': False,\n",
       " 'retweeted': False,\n",
       " 'possibly_sensitive': False,\n",
       " 'filter_level': 'low',\n",
       " 'lang': 'en',\n",
       " 'timestamp_ms': '1532398587279'}"
      ]
     },
     "execution_count": 21,
     "metadata": {},
     "output_type": "execute_result"
    }
   ],
   "source": [
    "tweet"
   ]
  },
  {
   "cell_type": "markdown",
   "metadata": {},
   "source": [
    "## Write tweets to Mongo"
   ]
  },
  {
   "cell_type": "code",
   "execution_count": 30,
   "metadata": {},
   "outputs": [],
   "source": [
    "from lib import create_mongo_client_to_database_collection\n",
    "\n",
    "collection_client = create_mongo_client_to_database_collection('twitter', 'tweets')\n",
    "\n",
    "length = len(tweets_from_s3)\n",
    "tweet = []\n",
    "\n",
    "for i in range(length):\n",
    "    tweet = tweets_from_s3[i]\n",
    "    collection_client.insert_one(tweet)"
   ]
  }
 ],
 "metadata": {
  "kernelspec": {
   "display_name": "Python 3",
   "language": "python",
   "name": "python3"
  },
  "language_info": {
   "codemirror_mode": {
    "name": "ipython",
    "version": 3
   },
   "file_extension": ".py",
   "mimetype": "text/x-python",
   "name": "python",
   "nbconvert_exporter": "python",
   "pygments_lexer": "ipython3",
   "version": "3.6.5"
  }
 },
 "nbformat": 4,
 "nbformat_minor": 2
}
