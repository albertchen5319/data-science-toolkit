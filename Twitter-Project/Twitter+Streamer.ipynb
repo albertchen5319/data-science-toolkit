{
 "cells": [
  {
   "cell_type": "markdown",
   "metadata": {},
   "source": [
    "Use `pip` to install `twitter`."
   ]
  },
  {
   "cell_type": "code",
   "execution_count": 2,
   "metadata": {},
   "outputs": [
    {
     "name": "stdout",
     "output_type": "stream",
     "text": [
      "Requirement already satisfied: twitter in /opt/conda/lib/python3.6/site-packages\n",
      "\u001b[33mYou are using pip version 9.0.3, however version 10.0.1 is available.\n",
      "You should consider upgrading via the 'pip install --upgrade pip' command.\u001b[0m\n"
     ]
    }
   ],
   "source": [
    "!pip install twitter"
   ]
  },
  {
   "cell_type": "markdown",
   "metadata": {},
   "source": [
    "Import `TwitterStream` and `OAuth` from `twitter`."
   ]
  },
  {
   "cell_type": "code",
   "execution_count": 3,
   "metadata": {},
   "outputs": [],
   "source": [
    "from twitter import TwitterStream, OAuth"
   ]
  },
  {
   "cell_type": "markdown",
   "metadata": {},
   "source": [
    "### `oauth`"
   ]
  },
  {
   "cell_type": "markdown",
   "metadata": {},
   "source": [
    "Create a new object called `oauth` using `OAuth`. \n",
    "\n",
    "    OAuth(token, token_secret, consumer_key, consumer_secret)"
   ]
  },
  {
   "cell_type": "code",
   "execution_count": 4,
   "metadata": {},
   "outputs": [],
   "source": [
    "token           = \"2196313819-Z4YEqaPB2COheQimxQ8ZODoRDSn8S6s2j5o7HuV\"\n",
    "token_secret    = \"BasDXMjQ8FpfyWuuZcY4svZgtxHLwT1gYRjuj2cMTODl5\"\n",
    "consumer_key    = \"ZCIZTporN63qlOd9BeCSmiPha\"\n",
    "consumer_secret = \"vdcLUxkO2hm4YF4tucBoyqFpdxuIlFJShWKCi8lK3zjQielpiC\""
   ]
  },
  {
   "cell_type": "code",
   "execution_count": 5,
   "metadata": {},
   "outputs": [],
   "source": [
    "oauth = OAuth(token, token_secret, consumer_key, consumer_secret)"
   ]
  },
  {
   "cell_type": "markdown",
   "metadata": {},
   "source": [
    "Create a new object called `twitter_stream` using `TwitterStream`.\n",
    "\n",
    "Use the argument `auth=oauth` referencing the `oauth` object you just made."
   ]
  },
  {
   "cell_type": "markdown",
   "metadata": {},
   "source": [
    "### `twitter_stream`"
   ]
  },
  {
   "cell_type": "code",
   "execution_count": 6,
   "metadata": {},
   "outputs": [],
   "source": [
    "twitter_stream = TwitterStream(auth=oauth)"
   ]
  },
  {
   "cell_type": "markdown",
   "metadata": {},
   "source": [
    "### `bounding_box`"
   ]
  },
  {
   "cell_type": "markdown",
   "metadata": {},
   "source": [
    "Create a string called `bounding_box`. The string should contain the geo-coordinates of a bounding box separated by commas. These values are for Santa Monica:\n",
    "\n",
    "    -118.5137323688,34.0001996344,-118.4702449172,34.0331651696\n",
    "    \n",
    "You can make your own here: https://boundingbox.klokantech.com. Be sure to specify CSV RAW to get the values in this format.\n",
    "\n",
    "![](https://www.evernote.com/l/AAH3H9KGE6hD9JpPJPFncw09exRyoYSid5IB/image.png)"
   ]
  },
  {
   "cell_type": "code",
   "execution_count": 7,
   "metadata": {},
   "outputs": [],
   "source": [
    "bounding_box = '-118.5137323688,34.0001996344,-118.4702449172,34.0331651696'"
   ]
  },
  {
   "cell_type": "markdown",
   "metadata": {},
   "source": [
    "### `tweet_iterator`\n",
    "\n",
    "Create an object called `tweet_iterator`. \n",
    "\n",
    "1. Use `twitter_stream`.\n",
    "1. Apply `.statuses` to grab statuses.\n",
    "1. Apply a `.filter()` with the argument `locations=bounding_box`."
   ]
  },
  {
   "cell_type": "code",
   "execution_count": 8,
   "metadata": {},
   "outputs": [],
   "source": [
    "tweet_iterator = (twitter_stream\n",
    "                  .statuses\n",
    "                  .filter(locations=bounding_box))"
   ]
  },
  {
   "cell_type": "code",
   "execution_count": 26,
   "metadata": {},
   "outputs": [
    {
     "data": {
      "text/plain": [
       "{'created_at': 'Tue Jul 24 00:57:16 +0000 2018',\n",
       " 'id': 1021559907299024897,\n",
       " 'id_str': '1021559907299024897',\n",
       " 'text': \"I'm at Terminal 1 in Los Angeles, CA https://t.co/rVmj3Ndjxh\",\n",
       " 'source': '<a href=\"http://foursquare.com\" rel=\"nofollow\">Foursquare</a>',\n",
       " 'truncated': False,\n",
       " 'in_reply_to_status_id': None,\n",
       " 'in_reply_to_status_id_str': None,\n",
       " 'in_reply_to_user_id': None,\n",
       " 'in_reply_to_user_id_str': None,\n",
       " 'in_reply_to_screen_name': None,\n",
       " 'user': {'id': 29371689,\n",
       "  'id_str': '29371689',\n",
       "  'name': 'EL That Boii',\n",
       "  'screen_name': '0hS0Fly',\n",
       "  'location': 'Bay Area, Ca',\n",
       "  'url': 'http://blulightz.wordpress.com',\n",
       "  'description': 'Educated. Queer. Human.',\n",
       "  'translator_type': 'none',\n",
       "  'protected': False,\n",
       "  'verified': False,\n",
       "  'followers_count': 227,\n",
       "  'friends_count': 330,\n",
       "  'listed_count': 18,\n",
       "  'favourites_count': 1427,\n",
       "  'statuses_count': 29768,\n",
       "  'created_at': 'Tue Apr 07 03:38:40 +0000 2009',\n",
       "  'utc_offset': None,\n",
       "  'time_zone': None,\n",
       "  'geo_enabled': True,\n",
       "  'lang': 'en',\n",
       "  'contributors_enabled': False,\n",
       "  'is_translator': False,\n",
       "  'profile_background_color': '642D8B',\n",
       "  'profile_background_image_url': 'http://abs.twimg.com/images/themes/theme14/bg.gif',\n",
       "  'profile_background_image_url_https': 'https://abs.twimg.com/images/themes/theme14/bg.gif',\n",
       "  'profile_background_tile': True,\n",
       "  'profile_link_color': '2F7BBD',\n",
       "  'profile_sidebar_border_color': '7D66D9',\n",
       "  'profile_sidebar_fill_color': 'FFFFFF',\n",
       "  'profile_text_color': '3D1957',\n",
       "  'profile_use_background_image': True,\n",
       "  'profile_image_url': 'http://pbs.twimg.com/profile_images/859144122153697281/Aht3rYdz_normal.jpg',\n",
       "  'profile_image_url_https': 'https://pbs.twimg.com/profile_images/859144122153697281/Aht3rYdz_normal.jpg',\n",
       "  'profile_banner_url': 'https://pbs.twimg.com/profile_banners/29371689/1486595129',\n",
       "  'default_profile': False,\n",
       "  'default_profile_image': False,\n",
       "  'following': None,\n",
       "  'follow_request_sent': None,\n",
       "  'notifications': None},\n",
       " 'geo': {'type': 'Point', 'coordinates': [33.94572296, -118.40114903]},\n",
       " 'coordinates': {'type': 'Point', 'coordinates': [-118.40114903, 33.94572296]},\n",
       " 'place': {'id': '3b77caf94bfc81fe',\n",
       "  'url': 'https://api.twitter.com/1.1/geo/id/3b77caf94bfc81fe.json',\n",
       "  'place_type': 'city',\n",
       "  'name': 'Los Angeles',\n",
       "  'full_name': 'Los Angeles, CA',\n",
       "  'country_code': 'US',\n",
       "  'country': 'United States',\n",
       "  'bounding_box': {'type': 'Polygon',\n",
       "   'coordinates': [[[-118.668404, 33.704538],\n",
       "     [-118.668404, 34.337041],\n",
       "     [-118.155409, 34.337041],\n",
       "     [-118.155409, 33.704538]]]},\n",
       "  'attributes': {}},\n",
       " 'contributors': None,\n",
       " 'is_quote_status': False,\n",
       " 'quote_count': 0,\n",
       " 'reply_count': 0,\n",
       " 'retweet_count': 0,\n",
       " 'favorite_count': 0,\n",
       " 'entities': {'hashtags': [],\n",
       "  'urls': [{'url': 'https://t.co/rVmj3Ndjxh',\n",
       "    'expanded_url': 'https://www.swarmapp.com/c/5qSNtcDZJ3J',\n",
       "    'display_url': 'swarmapp.com/c/5qSNtcDZJ3J',\n",
       "    'indices': [37, 60]}],\n",
       "  'user_mentions': [],\n",
       "  'symbols': []},\n",
       " 'favorited': False,\n",
       " 'retweeted': False,\n",
       " 'possibly_sensitive': False,\n",
       " 'filter_level': 'low',\n",
       " 'lang': 'en',\n",
       " 'timestamp_ms': '1532393836222'}"
      ]
     },
     "execution_count": 26,
     "metadata": {},
     "output_type": "execute_result"
    }
   ],
   "source": [
    "next(tweet_iterator)"
   ]
  },
  {
   "cell_type": "markdown",
   "metadata": {},
   "source": [
    "Get the next value from the `tweet_iterator` and store it as the variable `this_tweet`."
   ]
  },
  {
   "cell_type": "code",
   "execution_count": 9,
   "metadata": {},
   "outputs": [],
   "source": [
    "this_tweet = next(tweet_iterator)"
   ]
  },
  {
   "cell_type": "markdown",
   "metadata": {},
   "source": [
    "\n",
    "What is the type of `this_tweet`?"
   ]
  },
  {
   "cell_type": "code",
   "execution_count": 10,
   "metadata": {},
   "outputs": [
    {
     "data": {
      "text/plain": [
       "twitter.api.TwitterDictResponse"
      ]
     },
     "execution_count": 10,
     "metadata": {},
     "output_type": "execute_result"
    }
   ],
   "source": [
    "type(this_tweet)"
   ]
  },
  {
   "cell_type": "markdown",
   "metadata": {},
   "source": [
    "Display the keys of `this_tweet`."
   ]
  },
  {
   "cell_type": "code",
   "execution_count": 11,
   "metadata": {},
   "outputs": [
    {
     "data": {
      "text/plain": [
       "dict_keys(['created_at', 'id', 'id_str', 'text', 'display_text_range', 'source', 'truncated', 'in_reply_to_status_id', 'in_reply_to_status_id_str', 'in_reply_to_user_id', 'in_reply_to_user_id_str', 'in_reply_to_screen_name', 'user', 'geo', 'coordinates', 'place', 'contributors', 'is_quote_status', 'quote_count', 'reply_count', 'retweet_count', 'favorite_count', 'entities', 'favorited', 'retweeted', 'filter_level', 'lang', 'timestamp_ms'])"
      ]
     },
     "execution_count": 11,
     "metadata": {},
     "output_type": "execute_result"
    }
   ],
   "source": [
    "this_tweet.keys()"
   ]
  },
  {
   "cell_type": "markdown",
   "metadata": {},
   "source": [
    "Display the `text` and `user` of `this_tweet`."
   ]
  },
  {
   "cell_type": "code",
   "execution_count": 12,
   "metadata": {},
   "outputs": [
    {
     "data": {
      "text/plain": [
       "'@PaulieRobot3000 @DonCheadle Great selective outrage and lack of comprehension bro'"
      ]
     },
     "execution_count": 12,
     "metadata": {},
     "output_type": "execute_result"
    }
   ],
   "source": [
    "this_tweet['text']"
   ]
  },
  {
   "cell_type": "code",
   "execution_count": 13,
   "metadata": {},
   "outputs": [
    {
     "data": {
      "text/plain": [
       "{'id': 36475511,\n",
       " 'id_str': '36475511',\n",
       " 'name': 'Jissan Huq',\n",
       " 'screen_name': 'Noteless',\n",
       " 'location': 'Los Angeles',\n",
       " 'url': None,\n",
       " 'description': \"I've drawn 1,000+ Ninja Turtles. UCONN Alum | LA Clippers Advocate | Conan Grown, Seinfeld Molded\",\n",
       " 'translator_type': 'none',\n",
       " 'protected': False,\n",
       " 'verified': False,\n",
       " 'followers_count': 87,\n",
       " 'friends_count': 366,\n",
       " 'listed_count': 7,\n",
       " 'favourites_count': 14965,\n",
       " 'statuses_count': 4508,\n",
       " 'created_at': 'Wed Apr 29 20:46:12 +0000 2009',\n",
       " 'utc_offset': None,\n",
       " 'time_zone': None,\n",
       " 'geo_enabled': True,\n",
       " 'lang': 'en',\n",
       " 'contributors_enabled': False,\n",
       " 'is_translator': False,\n",
       " 'profile_background_color': '1A1B1F',\n",
       " 'profile_background_image_url': 'http://abs.twimg.com/images/themes/theme9/bg.gif',\n",
       " 'profile_background_image_url_https': 'https://abs.twimg.com/images/themes/theme9/bg.gif',\n",
       " 'profile_background_tile': False,\n",
       " 'profile_link_color': '2FC2EF',\n",
       " 'profile_sidebar_border_color': '181A1E',\n",
       " 'profile_sidebar_fill_color': '252429',\n",
       " 'profile_text_color': '666666',\n",
       " 'profile_use_background_image': True,\n",
       " 'profile_image_url': 'http://pbs.twimg.com/profile_images/944010854445473792/k7rj2E1E_normal.jpg',\n",
       " 'profile_image_url_https': 'https://pbs.twimg.com/profile_images/944010854445473792/k7rj2E1E_normal.jpg',\n",
       " 'profile_banner_url': 'https://pbs.twimg.com/profile_banners/36475511/1513904702',\n",
       " 'default_profile': False,\n",
       " 'default_profile_image': False,\n",
       " 'following': None,\n",
       " 'follow_request_sent': None,\n",
       " 'notifications': None}"
      ]
     },
     "execution_count": 13,
     "metadata": {},
     "output_type": "execute_result"
    }
   ],
   "source": [
    "this_tweet['user']"
   ]
  },
  {
   "cell_type": "markdown",
   "metadata": {},
   "source": [
    "## Collect Tweets\n",
    "\n",
    "Create an empty list called `tweets`.\n",
    "\n",
    "Use a `for`-loop to collect ten tweets and add them to this list."
   ]
  },
  {
   "cell_type": "code",
   "execution_count": 14,
   "metadata": {},
   "outputs": [],
   "source": [
    "tweets = []"
   ]
  },
  {
   "cell_type": "code",
   "execution_count": 27,
   "metadata": {},
   "outputs": [],
   "source": [
    "for i in range(10):\n",
    "    tweets.append(next(tweet_iterator))"
   ]
  },
  {
   "cell_type": "code",
   "execution_count": 16,
   "metadata": {},
   "outputs": [
    {
     "data": {
      "text/plain": [
       "10"
      ]
     },
     "execution_count": 16,
     "metadata": {},
     "output_type": "execute_result"
    }
   ],
   "source": [
    "len(tweets)"
   ]
  },
  {
   "cell_type": "markdown",
   "metadata": {},
   "source": [
    "Display `tweets` in a DataFrame."
   ]
  },
  {
   "cell_type": "code",
   "execution_count": 17,
   "metadata": {},
   "outputs": [],
   "source": [
    "import pandas as pd"
   ]
  },
  {
   "cell_type": "code",
   "execution_count": 18,
   "metadata": {},
   "outputs": [
    {
     "data": {
      "text/html": [
       "<div>\n",
       "<style scoped>\n",
       "    .dataframe tbody tr th:only-of-type {\n",
       "        vertical-align: middle;\n",
       "    }\n",
       "\n",
       "    .dataframe tbody tr th {\n",
       "        vertical-align: top;\n",
       "    }\n",
       "\n",
       "    .dataframe thead th {\n",
       "        text-align: right;\n",
       "    }\n",
       "</style>\n",
       "<table border=\"1\" class=\"dataframe\">\n",
       "  <thead>\n",
       "    <tr style=\"text-align: right;\">\n",
       "      <th></th>\n",
       "      <th>contributors</th>\n",
       "      <th>coordinates</th>\n",
       "      <th>created_at</th>\n",
       "      <th>display_text_range</th>\n",
       "      <th>entities</th>\n",
       "      <th>extended_entities</th>\n",
       "      <th>extended_tweet</th>\n",
       "      <th>favorite_count</th>\n",
       "      <th>favorited</th>\n",
       "      <th>filter_level</th>\n",
       "      <th>...</th>\n",
       "      <th>possibly_sensitive</th>\n",
       "      <th>quote_count</th>\n",
       "      <th>reply_count</th>\n",
       "      <th>retweet_count</th>\n",
       "      <th>retweeted</th>\n",
       "      <th>source</th>\n",
       "      <th>text</th>\n",
       "      <th>timestamp_ms</th>\n",
       "      <th>truncated</th>\n",
       "      <th>user</th>\n",
       "    </tr>\n",
       "  </thead>\n",
       "  <tbody>\n",
       "    <tr>\n",
       "      <th>0</th>\n",
       "      <td>None</td>\n",
       "      <td>None</td>\n",
       "      <td>Tue Jul 24 00:57:11 +0000 2018</td>\n",
       "      <td>[27, 36]</td>\n",
       "      <td>{'hashtags': [], 'urls': [], 'user_mentions': ...</td>\n",
       "      <td>NaN</td>\n",
       "      <td>NaN</td>\n",
       "      <td>0</td>\n",
       "      <td>False</td>\n",
       "      <td>low</td>\n",
       "      <td>...</td>\n",
       "      <td>NaN</td>\n",
       "      <td>0</td>\n",
       "      <td>0</td>\n",
       "      <td>0</td>\n",
       "      <td>False</td>\n",
       "      <td>&lt;a href=\"http://twitter.com/download/iphone\" r...</td>\n",
       "      <td>@leo_wizowski @_simplydeee LMFAO 😂😂😂</td>\n",
       "      <td>1532393831252</td>\n",
       "      <td>False</td>\n",
       "      <td>{'id': 43802582, 'id_str': '43802582', 'name':...</td>\n",
       "    </tr>\n",
       "    <tr>\n",
       "      <th>1</th>\n",
       "      <td>None</td>\n",
       "      <td>None</td>\n",
       "      <td>Tue Jul 24 00:57:11 +0000 2018</td>\n",
       "      <td>[13, 13]</td>\n",
       "      <td>{'hashtags': [], 'urls': [], 'user_mentions': ...</td>\n",
       "      <td>{'media': [{'id': 1021559880862199808, 'id_str...</td>\n",
       "      <td>NaN</td>\n",
       "      <td>0</td>\n",
       "      <td>False</td>\n",
       "      <td>low</td>\n",
       "      <td>...</td>\n",
       "      <td>False</td>\n",
       "      <td>0</td>\n",
       "      <td>0</td>\n",
       "      <td>0</td>\n",
       "      <td>False</td>\n",
       "      <td>&lt;a href=\"http://twitter.com/download/iphone\" r...</td>\n",
       "      <td>@TapiaStacey  https://t.co/LmsuegctKT</td>\n",
       "      <td>1532393831957</td>\n",
       "      <td>False</td>\n",
       "      <td>{'id': 3189169938, 'id_str': '3189169938', 'na...</td>\n",
       "    </tr>\n",
       "    <tr>\n",
       "      <th>2</th>\n",
       "      <td>None</td>\n",
       "      <td>None</td>\n",
       "      <td>Tue Jul 24 00:57:12 +0000 2018</td>\n",
       "      <td>[14, 16]</td>\n",
       "      <td>{'hashtags': [], 'urls': [], 'user_mentions': ...</td>\n",
       "      <td>NaN</td>\n",
       "      <td>NaN</td>\n",
       "      <td>0</td>\n",
       "      <td>False</td>\n",
       "      <td>low</td>\n",
       "      <td>...</td>\n",
       "      <td>NaN</td>\n",
       "      <td>0</td>\n",
       "      <td>0</td>\n",
       "      <td>0</td>\n",
       "      <td>False</td>\n",
       "      <td>&lt;a href=\"http://twitter.com/download/iphone\" r...</td>\n",
       "      <td>@sarasalmonxx RT</td>\n",
       "      <td>1532393832213</td>\n",
       "      <td>False</td>\n",
       "      <td>{'id': 780171209346396160, 'id_str': '78017120...</td>\n",
       "    </tr>\n",
       "    <tr>\n",
       "      <th>3</th>\n",
       "      <td>None</td>\n",
       "      <td>None</td>\n",
       "      <td>Tue Jul 24 00:57:12 +0000 2018</td>\n",
       "      <td>NaN</td>\n",
       "      <td>{'hashtags': [], 'urls': [], 'user_mentions': ...</td>\n",
       "      <td>NaN</td>\n",
       "      <td>NaN</td>\n",
       "      <td>0</td>\n",
       "      <td>False</td>\n",
       "      <td>low</td>\n",
       "      <td>...</td>\n",
       "      <td>NaN</td>\n",
       "      <td>0</td>\n",
       "      <td>0</td>\n",
       "      <td>0</td>\n",
       "      <td>False</td>\n",
       "      <td>&lt;a href=\"http://twitter.com\" rel=\"nofollow\"&gt;Ge...</td>\n",
       "      <td>TEST_GEO_Hierarchy: 24040ed1-b77e-4342-8fb4-53...</td>\n",
       "      <td>1532393832175</td>\n",
       "      <td>False</td>\n",
       "      <td>{'id': 758415480881164288, 'id_str': '75841548...</td>\n",
       "    </tr>\n",
       "    <tr>\n",
       "      <th>4</th>\n",
       "      <td>None</td>\n",
       "      <td>None</td>\n",
       "      <td>Tue Jul 24 00:57:12 +0000 2018</td>\n",
       "      <td>NaN</td>\n",
       "      <td>{'hashtags': [], 'urls': [], 'user_mentions': ...</td>\n",
       "      <td>NaN</td>\n",
       "      <td>NaN</td>\n",
       "      <td>0</td>\n",
       "      <td>False</td>\n",
       "      <td>low</td>\n",
       "      <td>...</td>\n",
       "      <td>NaN</td>\n",
       "      <td>0</td>\n",
       "      <td>0</td>\n",
       "      <td>0</td>\n",
       "      <td>False</td>\n",
       "      <td>&lt;a href=\"http://twitter.com\" rel=\"nofollow\"&gt;Ge...</td>\n",
       "      <td>TEST_GEO_Hierarchy: b1034247-7a5b-4eea-8117-73...</td>\n",
       "      <td>1532393832331</td>\n",
       "      <td>False</td>\n",
       "      <td>{'id': 758415480881164288, 'id_str': '75841548...</td>\n",
       "    </tr>\n",
       "    <tr>\n",
       "      <th>5</th>\n",
       "      <td>None</td>\n",
       "      <td>{'type': 'Point', 'coordinates': [-121.7128867...</td>\n",
       "      <td>Tue Jul 24 00:57:12 +0000 2018</td>\n",
       "      <td>NaN</td>\n",
       "      <td>{'hashtags': [{'text': 'strawberries', 'indice...</td>\n",
       "      <td>NaN</td>\n",
       "      <td>NaN</td>\n",
       "      <td>0</td>\n",
       "      <td>False</td>\n",
       "      <td>low</td>\n",
       "      <td>...</td>\n",
       "      <td>False</td>\n",
       "      <td>0</td>\n",
       "      <td>0</td>\n",
       "      <td>0</td>\n",
       "      <td>False</td>\n",
       "      <td>&lt;a href=\"http://instagram.com\" rel=\"nofollow\"&gt;...</td>\n",
       "      <td>#strawberries #strawberrypicking #gizdichranch...</td>\n",
       "      <td>1532393832396</td>\n",
       "      <td>False</td>\n",
       "      <td>{'id': 54907176, 'id_str': '54907176', 'name':...</td>\n",
       "    </tr>\n",
       "    <tr>\n",
       "      <th>6</th>\n",
       "      <td>None</td>\n",
       "      <td>{'type': 'Point', 'coordinates': [-118.243, 34...</td>\n",
       "      <td>Tue Jul 24 00:57:12 +0000 2018</td>\n",
       "      <td>NaN</td>\n",
       "      <td>{'hashtags': [], 'urls': [{'url': 'https://t.c...</td>\n",
       "      <td>NaN</td>\n",
       "      <td>NaN</td>\n",
       "      <td>0</td>\n",
       "      <td>False</td>\n",
       "      <td>low</td>\n",
       "      <td>...</td>\n",
       "      <td>False</td>\n",
       "      <td>0</td>\n",
       "      <td>0</td>\n",
       "      <td>0</td>\n",
       "      <td>False</td>\n",
       "      <td>&lt;a href=\"http://instagram.com\" rel=\"nofollow\"&gt;...</td>\n",
       "      <td>@yo_megs as Drake is my energy 😂❤️ with wearem...</td>\n",
       "      <td>1532393832357</td>\n",
       "      <td>False</td>\n",
       "      <td>{'id': 186131512, 'id_str': '186131512', 'name...</td>\n",
       "    </tr>\n",
       "    <tr>\n",
       "      <th>7</th>\n",
       "      <td>None</td>\n",
       "      <td>{'type': 'Point', 'coordinates': [-118.2550533...</td>\n",
       "      <td>Tue Jul 24 00:57:12 +0000 2018</td>\n",
       "      <td>NaN</td>\n",
       "      <td>{'hashtags': [{'text': 'getextra', 'indices': ...</td>\n",
       "      <td>NaN</td>\n",
       "      <td>{'full_text': 'You call it dramatic while I ca...</td>\n",
       "      <td>0</td>\n",
       "      <td>False</td>\n",
       "      <td>low</td>\n",
       "      <td>...</td>\n",
       "      <td>False</td>\n",
       "      <td>0</td>\n",
       "      <td>0</td>\n",
       "      <td>0</td>\n",
       "      <td>False</td>\n",
       "      <td>&lt;a href=\"http://instagram.com\" rel=\"nofollow\"&gt;...</td>\n",
       "      <td>You call it dramatic while I call it art. Be e...</td>\n",
       "      <td>1532393832741</td>\n",
       "      <td>True</td>\n",
       "      <td>{'id': 313710604, 'id_str': '313710604', 'name...</td>\n",
       "    </tr>\n",
       "    <tr>\n",
       "      <th>8</th>\n",
       "      <td>None</td>\n",
       "      <td>{'type': 'Point', 'coordinates': [-122.47846, ...</td>\n",
       "      <td>Tue Jul 24 00:57:14 +0000 2018</td>\n",
       "      <td>NaN</td>\n",
       "      <td>{'hashtags': [], 'urls': [{'url': 'https://t.c...</td>\n",
       "      <td>NaN</td>\n",
       "      <td>NaN</td>\n",
       "      <td>0</td>\n",
       "      <td>False</td>\n",
       "      <td>low</td>\n",
       "      <td>...</td>\n",
       "      <td>False</td>\n",
       "      <td>0</td>\n",
       "      <td>0</td>\n",
       "      <td>0</td>\n",
       "      <td>False</td>\n",
       "      <td>&lt;a href=\"http://instagram.com\" rel=\"nofollow\"&gt;...</td>\n",
       "      <td>Bay. @ Golden Gate Bridge https://t.co/HDJv5Ex79q</td>\n",
       "      <td>1532393834501</td>\n",
       "      <td>False</td>\n",
       "      <td>{'id': 2471129989, 'id_str': '2471129989', 'na...</td>\n",
       "    </tr>\n",
       "    <tr>\n",
       "      <th>9</th>\n",
       "      <td>None</td>\n",
       "      <td>{'type': 'Point', 'coordinates': [-117.3897312...</td>\n",
       "      <td>Tue Jul 24 00:57:15 +0000 2018</td>\n",
       "      <td>NaN</td>\n",
       "      <td>{'hashtags': [], 'urls': [{'url': 'https://t.c...</td>\n",
       "      <td>NaN</td>\n",
       "      <td>{'full_text': 'Warfighter Made's Adrenalin The...</td>\n",
       "      <td>0</td>\n",
       "      <td>False</td>\n",
       "      <td>low</td>\n",
       "      <td>...</td>\n",
       "      <td>False</td>\n",
       "      <td>0</td>\n",
       "      <td>0</td>\n",
       "      <td>0</td>\n",
       "      <td>False</td>\n",
       "      <td>&lt;a href=\"http://instagram.com\" rel=\"nofollow\"&gt;...</td>\n",
       "      <td>Warfighter Made's Adrenalin Therapy Saturday, ...</td>\n",
       "      <td>1532393835930</td>\n",
       "      <td>True</td>\n",
       "      <td>{'id': 1340762359, 'id_str': '1340762359', 'na...</td>\n",
       "    </tr>\n",
       "  </tbody>\n",
       "</table>\n",
       "<p>10 rows × 31 columns</p>\n",
       "</div>"
      ],
      "text/plain": [
       "  contributors                                        coordinates  \\\n",
       "0         None                                               None   \n",
       "1         None                                               None   \n",
       "2         None                                               None   \n",
       "3         None                                               None   \n",
       "4         None                                               None   \n",
       "5         None  {'type': 'Point', 'coordinates': [-121.7128867...   \n",
       "6         None  {'type': 'Point', 'coordinates': [-118.243, 34...   \n",
       "7         None  {'type': 'Point', 'coordinates': [-118.2550533...   \n",
       "8         None  {'type': 'Point', 'coordinates': [-122.47846, ...   \n",
       "9         None  {'type': 'Point', 'coordinates': [-117.3897312...   \n",
       "\n",
       "                       created_at display_text_range  \\\n",
       "0  Tue Jul 24 00:57:11 +0000 2018           [27, 36]   \n",
       "1  Tue Jul 24 00:57:11 +0000 2018           [13, 13]   \n",
       "2  Tue Jul 24 00:57:12 +0000 2018           [14, 16]   \n",
       "3  Tue Jul 24 00:57:12 +0000 2018                NaN   \n",
       "4  Tue Jul 24 00:57:12 +0000 2018                NaN   \n",
       "5  Tue Jul 24 00:57:12 +0000 2018                NaN   \n",
       "6  Tue Jul 24 00:57:12 +0000 2018                NaN   \n",
       "7  Tue Jul 24 00:57:12 +0000 2018                NaN   \n",
       "8  Tue Jul 24 00:57:14 +0000 2018                NaN   \n",
       "9  Tue Jul 24 00:57:15 +0000 2018                NaN   \n",
       "\n",
       "                                            entities  \\\n",
       "0  {'hashtags': [], 'urls': [], 'user_mentions': ...   \n",
       "1  {'hashtags': [], 'urls': [], 'user_mentions': ...   \n",
       "2  {'hashtags': [], 'urls': [], 'user_mentions': ...   \n",
       "3  {'hashtags': [], 'urls': [], 'user_mentions': ...   \n",
       "4  {'hashtags': [], 'urls': [], 'user_mentions': ...   \n",
       "5  {'hashtags': [{'text': 'strawberries', 'indice...   \n",
       "6  {'hashtags': [], 'urls': [{'url': 'https://t.c...   \n",
       "7  {'hashtags': [{'text': 'getextra', 'indices': ...   \n",
       "8  {'hashtags': [], 'urls': [{'url': 'https://t.c...   \n",
       "9  {'hashtags': [], 'urls': [{'url': 'https://t.c...   \n",
       "\n",
       "                                   extended_entities  \\\n",
       "0                                                NaN   \n",
       "1  {'media': [{'id': 1021559880862199808, 'id_str...   \n",
       "2                                                NaN   \n",
       "3                                                NaN   \n",
       "4                                                NaN   \n",
       "5                                                NaN   \n",
       "6                                                NaN   \n",
       "7                                                NaN   \n",
       "8                                                NaN   \n",
       "9                                                NaN   \n",
       "\n",
       "                                      extended_tweet  favorite_count  \\\n",
       "0                                                NaN               0   \n",
       "1                                                NaN               0   \n",
       "2                                                NaN               0   \n",
       "3                                                NaN               0   \n",
       "4                                                NaN               0   \n",
       "5                                                NaN               0   \n",
       "6                                                NaN               0   \n",
       "7  {'full_text': 'You call it dramatic while I ca...               0   \n",
       "8                                                NaN               0   \n",
       "9  {'full_text': 'Warfighter Made's Adrenalin The...               0   \n",
       "\n",
       "   favorited filter_level                        ...                          \\\n",
       "0      False          low                        ...                           \n",
       "1      False          low                        ...                           \n",
       "2      False          low                        ...                           \n",
       "3      False          low                        ...                           \n",
       "4      False          low                        ...                           \n",
       "5      False          low                        ...                           \n",
       "6      False          low                        ...                           \n",
       "7      False          low                        ...                           \n",
       "8      False          low                        ...                           \n",
       "9      False          low                        ...                           \n",
       "\n",
       "  possibly_sensitive  quote_count reply_count retweet_count  retweeted  \\\n",
       "0                NaN            0           0             0      False   \n",
       "1              False            0           0             0      False   \n",
       "2                NaN            0           0             0      False   \n",
       "3                NaN            0           0             0      False   \n",
       "4                NaN            0           0             0      False   \n",
       "5              False            0           0             0      False   \n",
       "6              False            0           0             0      False   \n",
       "7              False            0           0             0      False   \n",
       "8              False            0           0             0      False   \n",
       "9              False            0           0             0      False   \n",
       "\n",
       "                                              source  \\\n",
       "0  <a href=\"http://twitter.com/download/iphone\" r...   \n",
       "1  <a href=\"http://twitter.com/download/iphone\" r...   \n",
       "2  <a href=\"http://twitter.com/download/iphone\" r...   \n",
       "3  <a href=\"http://twitter.com\" rel=\"nofollow\">Ge...   \n",
       "4  <a href=\"http://twitter.com\" rel=\"nofollow\">Ge...   \n",
       "5  <a href=\"http://instagram.com\" rel=\"nofollow\">...   \n",
       "6  <a href=\"http://instagram.com\" rel=\"nofollow\">...   \n",
       "7  <a href=\"http://instagram.com\" rel=\"nofollow\">...   \n",
       "8  <a href=\"http://instagram.com\" rel=\"nofollow\">...   \n",
       "9  <a href=\"http://instagram.com\" rel=\"nofollow\">...   \n",
       "\n",
       "                                                text   timestamp_ms  \\\n",
       "0               @leo_wizowski @_simplydeee LMFAO 😂😂😂  1532393831252   \n",
       "1              @TapiaStacey  https://t.co/LmsuegctKT  1532393831957   \n",
       "2                                   @sarasalmonxx RT  1532393832213   \n",
       "3  TEST_GEO_Hierarchy: 24040ed1-b77e-4342-8fb4-53...  1532393832175   \n",
       "4  TEST_GEO_Hierarchy: b1034247-7a5b-4eea-8117-73...  1532393832331   \n",
       "5  #strawberries #strawberrypicking #gizdichranch...  1532393832396   \n",
       "6  @yo_megs as Drake is my energy 😂❤️ with wearem...  1532393832357   \n",
       "7  You call it dramatic while I call it art. Be e...  1532393832741   \n",
       "8  Bay. @ Golden Gate Bridge https://t.co/HDJv5Ex79q  1532393834501   \n",
       "9  Warfighter Made's Adrenalin Therapy Saturday, ...  1532393835930   \n",
       "\n",
       "   truncated                                               user  \n",
       "0      False  {'id': 43802582, 'id_str': '43802582', 'name':...  \n",
       "1      False  {'id': 3189169938, 'id_str': '3189169938', 'na...  \n",
       "2      False  {'id': 780171209346396160, 'id_str': '78017120...  \n",
       "3      False  {'id': 758415480881164288, 'id_str': '75841548...  \n",
       "4      False  {'id': 758415480881164288, 'id_str': '75841548...  \n",
       "5      False  {'id': 54907176, 'id_str': '54907176', 'name':...  \n",
       "6      False  {'id': 186131512, 'id_str': '186131512', 'name...  \n",
       "7       True  {'id': 313710604, 'id_str': '313710604', 'name...  \n",
       "8      False  {'id': 2471129989, 'id_str': '2471129989', 'na...  \n",
       "9       True  {'id': 1340762359, 'id_str': '1340762359', 'na...  \n",
       "\n",
       "[10 rows x 31 columns]"
      ]
     },
     "execution_count": 18,
     "metadata": {},
     "output_type": "execute_result"
    }
   ],
   "source": [
    "pd.DataFrame(tweets)"
   ]
  },
  {
   "cell_type": "markdown",
   "metadata": {},
   "source": [
    "Display just the test of the tweets using DataFrame."
   ]
  },
  {
   "cell_type": "code",
   "execution_count": 19,
   "metadata": {
    "scrolled": true
   },
   "outputs": [
    {
     "data": {
      "text/plain": [
       "0                 @leo_wizowski @_simplydeee LMFAO 😂😂😂\n",
       "1                @TapiaStacey  https://t.co/LmsuegctKT\n",
       "2                                     @sarasalmonxx RT\n",
       "3    TEST_GEO_Hierarchy: 24040ed1-b77e-4342-8fb4-53...\n",
       "4    TEST_GEO_Hierarchy: b1034247-7a5b-4eea-8117-73...\n",
       "5    #strawberries #strawberrypicking #gizdichranch...\n",
       "6    @yo_megs as Drake is my energy 😂❤️ with wearem...\n",
       "7    You call it dramatic while I call it art. Be e...\n",
       "8    Bay. @ Golden Gate Bridge https://t.co/HDJv5Ex79q\n",
       "9    Warfighter Made's Adrenalin Therapy Saturday, ...\n",
       "Name: text, dtype: object"
      ]
     },
     "execution_count": 19,
     "metadata": {},
     "output_type": "execute_result"
    }
   ],
   "source": [
    "pd.DataFrame(tweets).text"
   ]
  },
  {
   "cell_type": "code",
   "execution_count": 46,
   "metadata": {},
   "outputs": [
    {
     "data": {
      "text/plain": [
       "0    @jenelleriley See it while you can, the vultur...\n",
       "1                                            Me AF lol\n",
       "2    @Storageeccount @SoDamnHigH @VanityLaviie Go a...\n",
       "3    @katsuoworld It don't be funny it'll just be a...\n",
       "4                                       @FoxNews 🤣🤣🤣🤣🤣\n",
       "5    If you’re ever down on yourself,,  just know t...\n",
       "6    @Tim_Dawg_ @Jonah_Rock They kept calling him b...\n",
       "7                               @Gizmodo I wonder why?\n",
       "8    Gonna be drinking tonight so if you wanna real...\n",
       "9    @OMG_Dj_Judy I really love this look! I think ...\n",
       "Name: text, dtype: object"
      ]
     },
     "execution_count": 46,
     "metadata": {},
     "output_type": "execute_result"
    }
   ],
   "source": [
    "tweet_df = pd.DataFrame(tweets)\n",
    "tweet_df['text']"
   ]
  },
  {
   "cell_type": "markdown",
   "metadata": {},
   "source": [
    "What is the type of `tweets`?"
   ]
  },
  {
   "cell_type": "code",
   "execution_count": 39,
   "metadata": {},
   "outputs": [
    {
     "data": {
      "text/plain": [
       "list"
      ]
     },
     "execution_count": 39,
     "metadata": {},
     "output_type": "execute_result"
    }
   ],
   "source": [
    "type(tweets)"
   ]
  },
  {
   "cell_type": "markdown",
   "metadata": {},
   "source": [
    "Write a list comprehension to display the type of each of the objects in `tweets`."
   ]
  },
  {
   "cell_type": "code",
   "execution_count": 20,
   "metadata": {},
   "outputs": [
    {
     "data": {
      "text/plain": [
       "[twitter.api.TwitterDictResponse,\n",
       " twitter.api.TwitterDictResponse,\n",
       " twitter.api.TwitterDictResponse,\n",
       " twitter.api.TwitterDictResponse,\n",
       " twitter.api.TwitterDictResponse,\n",
       " twitter.api.TwitterDictResponse,\n",
       " twitter.api.TwitterDictResponse,\n",
       " twitter.api.TwitterDictResponse,\n",
       " twitter.api.TwitterDictResponse,\n",
       " twitter.api.TwitterDictResponse]"
      ]
     },
     "execution_count": 20,
     "metadata": {},
     "output_type": "execute_result"
    }
   ],
   "source": [
    "[type(tw) for tw in tweets]"
   ]
  },
  {
   "cell_type": "markdown",
   "metadata": {},
   "source": [
    "Import the `json` library."
   ]
  },
  {
   "cell_type": "code",
   "execution_count": 21,
   "metadata": {},
   "outputs": [],
   "source": [
    "import json"
   ]
  },
  {
   "cell_type": "markdown",
   "metadata": {},
   "source": [
    "Create an object called `tweets_string` using `json.dumps()`.\n",
    "\n",
    "Display the first 500 characters of this string. "
   ]
  },
  {
   "cell_type": "code",
   "execution_count": 22,
   "metadata": {},
   "outputs": [
    {
     "data": {
      "text/plain": [
       "'[{\"created_at\": \"Tue Jul 24 00:57:11 +0000 2018\", \"id\": 1021559886453202947, \"id_str\": \"1021559886453202947\", \"text\": \"@leo_wizowski @_simplydeee LMFAO \\\\ud83d\\\\ude02\\\\ud83d\\\\ude02\\\\ud83d\\\\ude02\", \"display_text_range\": [27, 36], \"source\": \"<a href=\\\\\"http://twitter.com/download/iphone\\\\\" rel=\\\\\"nofollow\\\\\">Twitter for iPhone</a>\", \"truncated\": false, \"in_reply_to_status_id\": 1021559749450465280, \"in_reply_to_status_id_str\": \"1021559749450465280\", \"in_reply_to_user_id\": 61876905, \"in_reply_to_user_id_str\":'"
      ]
     },
     "execution_count": 22,
     "metadata": {},
     "output_type": "execute_result"
    }
   ],
   "source": [
    "json.dumps(tweets)[:500]"
   ]
  },
  {
   "cell_type": "markdown",
   "metadata": {},
   "source": [
    "## Write Tweets to Disk\n",
    "\n",
    "Using this pattern\n",
    "\n",
    "    with open(filename_as_string, 'w') as outfile:\n",
    "        json.dump(python_object, outfile)\n",
    "        \n",
    "write `tweets` to disk as json."
   ]
  },
  {
   "cell_type": "code",
   "execution_count": 23,
   "metadata": {},
   "outputs": [],
   "source": [
    "with open('data.json', 'w') as outfile:\n",
    "    json.dump(tweets, outfile)"
   ]
  },
  {
   "cell_type": "markdown",
   "metadata": {},
   "source": [
    "## Read Tweets from Disk\n",
    "\n",
    "Using this pattern\n",
    "\n",
    "    with open(filename_as_string) as infile:\n",
    "        json_data=infile.read()\n",
    "        python_object_from_disk = json.loads(json_data)\n",
    "        \n",
    "read the tweets from the json. Store them as `tweets_from_disk`."
   ]
  },
  {
   "cell_type": "code",
   "execution_count": 24,
   "metadata": {},
   "outputs": [],
   "source": [
    "with open('data.json') as infile:\n",
    "    json_data=infile.read()\n",
    "    tweets_from_disk = json.loads(json_data)"
   ]
  },
  {
   "cell_type": "markdown",
   "metadata": {},
   "source": [
    "Display `tweets_from_disk` as a DataFrame."
   ]
  },
  {
   "cell_type": "code",
   "execution_count": 25,
   "metadata": {},
   "outputs": [
    {
     "data": {
      "text/html": [
       "<div>\n",
       "<style scoped>\n",
       "    .dataframe tbody tr th:only-of-type {\n",
       "        vertical-align: middle;\n",
       "    }\n",
       "\n",
       "    .dataframe tbody tr th {\n",
       "        vertical-align: top;\n",
       "    }\n",
       "\n",
       "    .dataframe thead th {\n",
       "        text-align: right;\n",
       "    }\n",
       "</style>\n",
       "<table border=\"1\" class=\"dataframe\">\n",
       "  <thead>\n",
       "    <tr style=\"text-align: right;\">\n",
       "      <th></th>\n",
       "      <th>contributors</th>\n",
       "      <th>coordinates</th>\n",
       "      <th>created_at</th>\n",
       "      <th>display_text_range</th>\n",
       "      <th>entities</th>\n",
       "      <th>extended_entities</th>\n",
       "      <th>extended_tweet</th>\n",
       "      <th>favorite_count</th>\n",
       "      <th>favorited</th>\n",
       "      <th>filter_level</th>\n",
       "      <th>...</th>\n",
       "      <th>possibly_sensitive</th>\n",
       "      <th>quote_count</th>\n",
       "      <th>reply_count</th>\n",
       "      <th>retweet_count</th>\n",
       "      <th>retweeted</th>\n",
       "      <th>source</th>\n",
       "      <th>text</th>\n",
       "      <th>timestamp_ms</th>\n",
       "      <th>truncated</th>\n",
       "      <th>user</th>\n",
       "    </tr>\n",
       "  </thead>\n",
       "  <tbody>\n",
       "    <tr>\n",
       "      <th>0</th>\n",
       "      <td>None</td>\n",
       "      <td>None</td>\n",
       "      <td>Tue Jul 24 00:57:11 +0000 2018</td>\n",
       "      <td>[27, 36]</td>\n",
       "      <td>{'hashtags': [], 'urls': [], 'user_mentions': ...</td>\n",
       "      <td>NaN</td>\n",
       "      <td>NaN</td>\n",
       "      <td>0</td>\n",
       "      <td>False</td>\n",
       "      <td>low</td>\n",
       "      <td>...</td>\n",
       "      <td>NaN</td>\n",
       "      <td>0</td>\n",
       "      <td>0</td>\n",
       "      <td>0</td>\n",
       "      <td>False</td>\n",
       "      <td>&lt;a href=\"http://twitter.com/download/iphone\" r...</td>\n",
       "      <td>@leo_wizowski @_simplydeee LMFAO 😂😂😂</td>\n",
       "      <td>1532393831252</td>\n",
       "      <td>False</td>\n",
       "      <td>{'id': 43802582, 'id_str': '43802582', 'name':...</td>\n",
       "    </tr>\n",
       "    <tr>\n",
       "      <th>1</th>\n",
       "      <td>None</td>\n",
       "      <td>None</td>\n",
       "      <td>Tue Jul 24 00:57:11 +0000 2018</td>\n",
       "      <td>[13, 13]</td>\n",
       "      <td>{'hashtags': [], 'urls': [], 'user_mentions': ...</td>\n",
       "      <td>{'media': [{'id': 1021559880862199808, 'id_str...</td>\n",
       "      <td>NaN</td>\n",
       "      <td>0</td>\n",
       "      <td>False</td>\n",
       "      <td>low</td>\n",
       "      <td>...</td>\n",
       "      <td>False</td>\n",
       "      <td>0</td>\n",
       "      <td>0</td>\n",
       "      <td>0</td>\n",
       "      <td>False</td>\n",
       "      <td>&lt;a href=\"http://twitter.com/download/iphone\" r...</td>\n",
       "      <td>@TapiaStacey  https://t.co/LmsuegctKT</td>\n",
       "      <td>1532393831957</td>\n",
       "      <td>False</td>\n",
       "      <td>{'id': 3189169938, 'id_str': '3189169938', 'na...</td>\n",
       "    </tr>\n",
       "    <tr>\n",
       "      <th>2</th>\n",
       "      <td>None</td>\n",
       "      <td>None</td>\n",
       "      <td>Tue Jul 24 00:57:12 +0000 2018</td>\n",
       "      <td>[14, 16]</td>\n",
       "      <td>{'hashtags': [], 'urls': [], 'user_mentions': ...</td>\n",
       "      <td>NaN</td>\n",
       "      <td>NaN</td>\n",
       "      <td>0</td>\n",
       "      <td>False</td>\n",
       "      <td>low</td>\n",
       "      <td>...</td>\n",
       "      <td>NaN</td>\n",
       "      <td>0</td>\n",
       "      <td>0</td>\n",
       "      <td>0</td>\n",
       "      <td>False</td>\n",
       "      <td>&lt;a href=\"http://twitter.com/download/iphone\" r...</td>\n",
       "      <td>@sarasalmonxx RT</td>\n",
       "      <td>1532393832213</td>\n",
       "      <td>False</td>\n",
       "      <td>{'id': 780171209346396160, 'id_str': '78017120...</td>\n",
       "    </tr>\n",
       "    <tr>\n",
       "      <th>3</th>\n",
       "      <td>None</td>\n",
       "      <td>None</td>\n",
       "      <td>Tue Jul 24 00:57:12 +0000 2018</td>\n",
       "      <td>NaN</td>\n",
       "      <td>{'hashtags': [], 'urls': [], 'user_mentions': ...</td>\n",
       "      <td>NaN</td>\n",
       "      <td>NaN</td>\n",
       "      <td>0</td>\n",
       "      <td>False</td>\n",
       "      <td>low</td>\n",
       "      <td>...</td>\n",
       "      <td>NaN</td>\n",
       "      <td>0</td>\n",
       "      <td>0</td>\n",
       "      <td>0</td>\n",
       "      <td>False</td>\n",
       "      <td>&lt;a href=\"http://twitter.com\" rel=\"nofollow\"&gt;Ge...</td>\n",
       "      <td>TEST_GEO_Hierarchy: 24040ed1-b77e-4342-8fb4-53...</td>\n",
       "      <td>1532393832175</td>\n",
       "      <td>False</td>\n",
       "      <td>{'id': 758415480881164288, 'id_str': '75841548...</td>\n",
       "    </tr>\n",
       "    <tr>\n",
       "      <th>4</th>\n",
       "      <td>None</td>\n",
       "      <td>None</td>\n",
       "      <td>Tue Jul 24 00:57:12 +0000 2018</td>\n",
       "      <td>NaN</td>\n",
       "      <td>{'hashtags': [], 'urls': [], 'user_mentions': ...</td>\n",
       "      <td>NaN</td>\n",
       "      <td>NaN</td>\n",
       "      <td>0</td>\n",
       "      <td>False</td>\n",
       "      <td>low</td>\n",
       "      <td>...</td>\n",
       "      <td>NaN</td>\n",
       "      <td>0</td>\n",
       "      <td>0</td>\n",
       "      <td>0</td>\n",
       "      <td>False</td>\n",
       "      <td>&lt;a href=\"http://twitter.com\" rel=\"nofollow\"&gt;Ge...</td>\n",
       "      <td>TEST_GEO_Hierarchy: b1034247-7a5b-4eea-8117-73...</td>\n",
       "      <td>1532393832331</td>\n",
       "      <td>False</td>\n",
       "      <td>{'id': 758415480881164288, 'id_str': '75841548...</td>\n",
       "    </tr>\n",
       "    <tr>\n",
       "      <th>5</th>\n",
       "      <td>None</td>\n",
       "      <td>{'type': 'Point', 'coordinates': [-121.7128867...</td>\n",
       "      <td>Tue Jul 24 00:57:12 +0000 2018</td>\n",
       "      <td>NaN</td>\n",
       "      <td>{'hashtags': [{'text': 'strawberries', 'indice...</td>\n",
       "      <td>NaN</td>\n",
       "      <td>NaN</td>\n",
       "      <td>0</td>\n",
       "      <td>False</td>\n",
       "      <td>low</td>\n",
       "      <td>...</td>\n",
       "      <td>False</td>\n",
       "      <td>0</td>\n",
       "      <td>0</td>\n",
       "      <td>0</td>\n",
       "      <td>False</td>\n",
       "      <td>&lt;a href=\"http://instagram.com\" rel=\"nofollow\"&gt;...</td>\n",
       "      <td>#strawberries #strawberrypicking #gizdichranch...</td>\n",
       "      <td>1532393832396</td>\n",
       "      <td>False</td>\n",
       "      <td>{'id': 54907176, 'id_str': '54907176', 'name':...</td>\n",
       "    </tr>\n",
       "    <tr>\n",
       "      <th>6</th>\n",
       "      <td>None</td>\n",
       "      <td>{'type': 'Point', 'coordinates': [-118.243, 34...</td>\n",
       "      <td>Tue Jul 24 00:57:12 +0000 2018</td>\n",
       "      <td>NaN</td>\n",
       "      <td>{'hashtags': [], 'urls': [{'url': 'https://t.c...</td>\n",
       "      <td>NaN</td>\n",
       "      <td>NaN</td>\n",
       "      <td>0</td>\n",
       "      <td>False</td>\n",
       "      <td>low</td>\n",
       "      <td>...</td>\n",
       "      <td>False</td>\n",
       "      <td>0</td>\n",
       "      <td>0</td>\n",
       "      <td>0</td>\n",
       "      <td>False</td>\n",
       "      <td>&lt;a href=\"http://instagram.com\" rel=\"nofollow\"&gt;...</td>\n",
       "      <td>@yo_megs as Drake is my energy 😂❤️ with wearem...</td>\n",
       "      <td>1532393832357</td>\n",
       "      <td>False</td>\n",
       "      <td>{'id': 186131512, 'id_str': '186131512', 'name...</td>\n",
       "    </tr>\n",
       "    <tr>\n",
       "      <th>7</th>\n",
       "      <td>None</td>\n",
       "      <td>{'type': 'Point', 'coordinates': [-118.2550533...</td>\n",
       "      <td>Tue Jul 24 00:57:12 +0000 2018</td>\n",
       "      <td>NaN</td>\n",
       "      <td>{'hashtags': [{'text': 'getextra', 'indices': ...</td>\n",
       "      <td>NaN</td>\n",
       "      <td>{'full_text': 'You call it dramatic while I ca...</td>\n",
       "      <td>0</td>\n",
       "      <td>False</td>\n",
       "      <td>low</td>\n",
       "      <td>...</td>\n",
       "      <td>False</td>\n",
       "      <td>0</td>\n",
       "      <td>0</td>\n",
       "      <td>0</td>\n",
       "      <td>False</td>\n",
       "      <td>&lt;a href=\"http://instagram.com\" rel=\"nofollow\"&gt;...</td>\n",
       "      <td>You call it dramatic while I call it art. Be e...</td>\n",
       "      <td>1532393832741</td>\n",
       "      <td>True</td>\n",
       "      <td>{'id': 313710604, 'id_str': '313710604', 'name...</td>\n",
       "    </tr>\n",
       "    <tr>\n",
       "      <th>8</th>\n",
       "      <td>None</td>\n",
       "      <td>{'type': 'Point', 'coordinates': [-122.47846, ...</td>\n",
       "      <td>Tue Jul 24 00:57:14 +0000 2018</td>\n",
       "      <td>NaN</td>\n",
       "      <td>{'hashtags': [], 'urls': [{'url': 'https://t.c...</td>\n",
       "      <td>NaN</td>\n",
       "      <td>NaN</td>\n",
       "      <td>0</td>\n",
       "      <td>False</td>\n",
       "      <td>low</td>\n",
       "      <td>...</td>\n",
       "      <td>False</td>\n",
       "      <td>0</td>\n",
       "      <td>0</td>\n",
       "      <td>0</td>\n",
       "      <td>False</td>\n",
       "      <td>&lt;a href=\"http://instagram.com\" rel=\"nofollow\"&gt;...</td>\n",
       "      <td>Bay. @ Golden Gate Bridge https://t.co/HDJv5Ex79q</td>\n",
       "      <td>1532393834501</td>\n",
       "      <td>False</td>\n",
       "      <td>{'id': 2471129989, 'id_str': '2471129989', 'na...</td>\n",
       "    </tr>\n",
       "    <tr>\n",
       "      <th>9</th>\n",
       "      <td>None</td>\n",
       "      <td>{'type': 'Point', 'coordinates': [-117.3897312...</td>\n",
       "      <td>Tue Jul 24 00:57:15 +0000 2018</td>\n",
       "      <td>NaN</td>\n",
       "      <td>{'hashtags': [], 'urls': [{'url': 'https://t.c...</td>\n",
       "      <td>NaN</td>\n",
       "      <td>{'full_text': 'Warfighter Made's Adrenalin The...</td>\n",
       "      <td>0</td>\n",
       "      <td>False</td>\n",
       "      <td>low</td>\n",
       "      <td>...</td>\n",
       "      <td>False</td>\n",
       "      <td>0</td>\n",
       "      <td>0</td>\n",
       "      <td>0</td>\n",
       "      <td>False</td>\n",
       "      <td>&lt;a href=\"http://instagram.com\" rel=\"nofollow\"&gt;...</td>\n",
       "      <td>Warfighter Made's Adrenalin Therapy Saturday, ...</td>\n",
       "      <td>1532393835930</td>\n",
       "      <td>True</td>\n",
       "      <td>{'id': 1340762359, 'id_str': '1340762359', 'na...</td>\n",
       "    </tr>\n",
       "  </tbody>\n",
       "</table>\n",
       "<p>10 rows × 31 columns</p>\n",
       "</div>"
      ],
      "text/plain": [
       "  contributors                                        coordinates  \\\n",
       "0         None                                               None   \n",
       "1         None                                               None   \n",
       "2         None                                               None   \n",
       "3         None                                               None   \n",
       "4         None                                               None   \n",
       "5         None  {'type': 'Point', 'coordinates': [-121.7128867...   \n",
       "6         None  {'type': 'Point', 'coordinates': [-118.243, 34...   \n",
       "7         None  {'type': 'Point', 'coordinates': [-118.2550533...   \n",
       "8         None  {'type': 'Point', 'coordinates': [-122.47846, ...   \n",
       "9         None  {'type': 'Point', 'coordinates': [-117.3897312...   \n",
       "\n",
       "                       created_at display_text_range  \\\n",
       "0  Tue Jul 24 00:57:11 +0000 2018           [27, 36]   \n",
       "1  Tue Jul 24 00:57:11 +0000 2018           [13, 13]   \n",
       "2  Tue Jul 24 00:57:12 +0000 2018           [14, 16]   \n",
       "3  Tue Jul 24 00:57:12 +0000 2018                NaN   \n",
       "4  Tue Jul 24 00:57:12 +0000 2018                NaN   \n",
       "5  Tue Jul 24 00:57:12 +0000 2018                NaN   \n",
       "6  Tue Jul 24 00:57:12 +0000 2018                NaN   \n",
       "7  Tue Jul 24 00:57:12 +0000 2018                NaN   \n",
       "8  Tue Jul 24 00:57:14 +0000 2018                NaN   \n",
       "9  Tue Jul 24 00:57:15 +0000 2018                NaN   \n",
       "\n",
       "                                            entities  \\\n",
       "0  {'hashtags': [], 'urls': [], 'user_mentions': ...   \n",
       "1  {'hashtags': [], 'urls': [], 'user_mentions': ...   \n",
       "2  {'hashtags': [], 'urls': [], 'user_mentions': ...   \n",
       "3  {'hashtags': [], 'urls': [], 'user_mentions': ...   \n",
       "4  {'hashtags': [], 'urls': [], 'user_mentions': ...   \n",
       "5  {'hashtags': [{'text': 'strawberries', 'indice...   \n",
       "6  {'hashtags': [], 'urls': [{'url': 'https://t.c...   \n",
       "7  {'hashtags': [{'text': 'getextra', 'indices': ...   \n",
       "8  {'hashtags': [], 'urls': [{'url': 'https://t.c...   \n",
       "9  {'hashtags': [], 'urls': [{'url': 'https://t.c...   \n",
       "\n",
       "                                   extended_entities  \\\n",
       "0                                                NaN   \n",
       "1  {'media': [{'id': 1021559880862199808, 'id_str...   \n",
       "2                                                NaN   \n",
       "3                                                NaN   \n",
       "4                                                NaN   \n",
       "5                                                NaN   \n",
       "6                                                NaN   \n",
       "7                                                NaN   \n",
       "8                                                NaN   \n",
       "9                                                NaN   \n",
       "\n",
       "                                      extended_tweet  favorite_count  \\\n",
       "0                                                NaN               0   \n",
       "1                                                NaN               0   \n",
       "2                                                NaN               0   \n",
       "3                                                NaN               0   \n",
       "4                                                NaN               0   \n",
       "5                                                NaN               0   \n",
       "6                                                NaN               0   \n",
       "7  {'full_text': 'You call it dramatic while I ca...               0   \n",
       "8                                                NaN               0   \n",
       "9  {'full_text': 'Warfighter Made's Adrenalin The...               0   \n",
       "\n",
       "   favorited filter_level                        ...                          \\\n",
       "0      False          low                        ...                           \n",
       "1      False          low                        ...                           \n",
       "2      False          low                        ...                           \n",
       "3      False          low                        ...                           \n",
       "4      False          low                        ...                           \n",
       "5      False          low                        ...                           \n",
       "6      False          low                        ...                           \n",
       "7      False          low                        ...                           \n",
       "8      False          low                        ...                           \n",
       "9      False          low                        ...                           \n",
       "\n",
       "  possibly_sensitive  quote_count reply_count retweet_count  retweeted  \\\n",
       "0                NaN            0           0             0      False   \n",
       "1              False            0           0             0      False   \n",
       "2                NaN            0           0             0      False   \n",
       "3                NaN            0           0             0      False   \n",
       "4                NaN            0           0             0      False   \n",
       "5              False            0           0             0      False   \n",
       "6              False            0           0             0      False   \n",
       "7              False            0           0             0      False   \n",
       "8              False            0           0             0      False   \n",
       "9              False            0           0             0      False   \n",
       "\n",
       "                                              source  \\\n",
       "0  <a href=\"http://twitter.com/download/iphone\" r...   \n",
       "1  <a href=\"http://twitter.com/download/iphone\" r...   \n",
       "2  <a href=\"http://twitter.com/download/iphone\" r...   \n",
       "3  <a href=\"http://twitter.com\" rel=\"nofollow\">Ge...   \n",
       "4  <a href=\"http://twitter.com\" rel=\"nofollow\">Ge...   \n",
       "5  <a href=\"http://instagram.com\" rel=\"nofollow\">...   \n",
       "6  <a href=\"http://instagram.com\" rel=\"nofollow\">...   \n",
       "7  <a href=\"http://instagram.com\" rel=\"nofollow\">...   \n",
       "8  <a href=\"http://instagram.com\" rel=\"nofollow\">...   \n",
       "9  <a href=\"http://instagram.com\" rel=\"nofollow\">...   \n",
       "\n",
       "                                                text   timestamp_ms  \\\n",
       "0               @leo_wizowski @_simplydeee LMFAO 😂😂😂  1532393831252   \n",
       "1              @TapiaStacey  https://t.co/LmsuegctKT  1532393831957   \n",
       "2                                   @sarasalmonxx RT  1532393832213   \n",
       "3  TEST_GEO_Hierarchy: 24040ed1-b77e-4342-8fb4-53...  1532393832175   \n",
       "4  TEST_GEO_Hierarchy: b1034247-7a5b-4eea-8117-73...  1532393832331   \n",
       "5  #strawberries #strawberrypicking #gizdichranch...  1532393832396   \n",
       "6  @yo_megs as Drake is my energy 😂❤️ with wearem...  1532393832357   \n",
       "7  You call it dramatic while I call it art. Be e...  1532393832741   \n",
       "8  Bay. @ Golden Gate Bridge https://t.co/HDJv5Ex79q  1532393834501   \n",
       "9  Warfighter Made's Adrenalin Therapy Saturday, ...  1532393835930   \n",
       "\n",
       "   truncated                                               user  \n",
       "0      False  {'id': 43802582, 'id_str': '43802582', 'name':...  \n",
       "1      False  {'id': 3189169938, 'id_str': '3189169938', 'na...  \n",
       "2      False  {'id': 780171209346396160, 'id_str': '78017120...  \n",
       "3      False  {'id': 758415480881164288, 'id_str': '75841548...  \n",
       "4      False  {'id': 758415480881164288, 'id_str': '75841548...  \n",
       "5      False  {'id': 54907176, 'id_str': '54907176', 'name':...  \n",
       "6      False  {'id': 186131512, 'id_str': '186131512', 'name...  \n",
       "7       True  {'id': 313710604, 'id_str': '313710604', 'name...  \n",
       "8      False  {'id': 2471129989, 'id_str': '2471129989', 'na...  \n",
       "9       True  {'id': 1340762359, 'id_str': '1340762359', 'na...  \n",
       "\n",
       "[10 rows x 31 columns]"
      ]
     },
     "execution_count": 25,
     "metadata": {},
     "output_type": "execute_result"
    }
   ],
   "source": [
    "pd.DataFrame(tweets_from_disk)"
   ]
  },
  {
   "cell_type": "code",
   "execution_count": null,
   "metadata": {},
   "outputs": [],
   "source": []
  }
 ],
 "metadata": {
  "kernelspec": {
   "display_name": "Python 3",
   "language": "python",
   "name": "python3"
  },
  "language_info": {
   "codemirror_mode": {
    "name": "ipython",
    "version": 3
   },
   "file_extension": ".py",
   "mimetype": "text/x-python",
   "name": "python",
   "nbconvert_exporter": "python",
   "pygments_lexer": "ipython3",
   "version": "3.6.5"
  }
 },
 "nbformat": 4,
 "nbformat_minor": 2
}
